{
 "cells": [
  {
   "cell_type": "markdown",
   "metadata": {},
   "source": [
    "##### DB 연결(db_conn)"
   ]
  },
  {
   "cell_type": "code",
   "execution_count": 1,
   "metadata": {},
   "outputs": [],
   "source": [
    "# DB Connection\n",
    "\n",
    "import configparser\n",
    "import pymysql\n",
    "\n",
    "# config open\n",
    "config = configparser.ConfigParser()\n",
    "config.read('../config/config.ini')\n",
    "\n",
    "class DBConnection:\n",
    "    def __init__(self):\n",
    "        self._conn = pymysql.connect(           \n",
    "            # Local DB\n",
    "            host = config['DB_TEST']['HOST'],\n",
    "            port = 3306,\n",
    "            user = config['DB_TEST']['USER'],\n",
    "            password = config['DB_TEST']['PASSWD'],\n",
    "            db = config['DB_TEST']['DB_NAME'],\n",
    "\n",
    "            #autocommit = True,           \n",
    "            charset = 'utf8mb4',\n",
    "            cursorclass = pymysql.cursors.DictCursor # DB조회시 컬럼명을 동시에 보여줌\n",
    "        )\n",
    "        self._cursor = self._conn.cursor()\n",
    "    def __enter__(self):\n",
    "        return self\n",
    "\n",
    "    def __exit__(self, exc_type, exc_val, exc_tb):\n",
    "        self.close()\n",
    "\n",
    "    @property\n",
    "    def connection(self):\n",
    "        return self._conn\n",
    "    \n",
    "    @property\n",
    "    def cursor(self):\n",
    "        return self._cursor\n",
    "    \n",
    "    def rollback(self, rollback=True):\n",
    "        if rollback:\n",
    "            self.rollback()\n",
    "        self.connection.close()\n",
    "    \n",
    "    def commit(self):\n",
    "        self.connection.commit()\n",
    "    \n",
    "    def close(self, commit=True):\n",
    "        if commit:\n",
    "            self.commit()\n",
    "        self.connection.close()\n",
    "    \n",
    "    def execute(self, sql, params=None):\n",
    "        self.cursor.execute(sql, params or ())\n",
    "\n",
    "    def executemany(self, sql, params=None):\n",
    "        self.cursor.executemany(sql, params or ())\n",
    "\n",
    "    def fetchall(self):\n",
    "        return self.cursor.fetchall()\n",
    "    \n",
    "    def fetchone(self):\n",
    "        return self.cursor.fetchone()\n",
    "    \n",
    "    def query(self, sql, params=None):\n",
    "        self.cursor.execute(sql, params or ())\n",
    "        return self.fetchall()\n",
    "    \n",
    "    def rows(self):\n",
    "        return self.cursor.rowcount    "
   ]
  },
  {
   "cell_type": "code",
   "execution_count": 2,
   "metadata": {},
   "outputs": [],
   "source": [
    "import pandas as pd\n",
    "\n",
    "conn = DBConnection()"
   ]
  },
  {
   "cell_type": "markdown",
   "metadata": {},
   "source": [
    "##### 카테고리(tb_category) 데이터 입력"
   ]
  },
  {
   "cell_type": "code",
   "execution_count": 3,
   "metadata": {},
   "outputs": [],
   "source": [
    "path = '../assets/'\n",
    "file_name = 'keyword_list.csv'\n",
    "\n",
    "file_path = path + file_name\n",
    "\n",
    "df = pd.read_csv(file_path, encoding='utf-8')\n",
    "\n",
    "# 중복 제거\n",
    "cate = df.drop_duplicates(['카테고리'])\n",
    "cate_datas = list(cate['카테고리'].values)\n",
    "\n",
    "# print(datas)\n",
    "\n",
    "cate_sql = \"INSERT INTO tb_category(cate_name)VALUES(%s)\"\n",
    "\n",
    "values = []\n",
    "for cate_data in cate_datas:\n",
    "    values.append(cate_data)\n",
    "\n",
    "conn.executemany(cate_sql, values)\n",
    "conn.commit()\n"
   ]
  },
  {
   "cell_type": "markdown",
   "metadata": {},
   "source": [
    "##### 키워드 데이터 입력"
   ]
  },
  {
   "cell_type": "code",
   "execution_count": 4,
   "metadata": {},
   "outputs": [],
   "source": [
    "path = '../assets/'\n",
    "file_name = 'keyword_list.csv'\n",
    "\n",
    "file_path = path + file_name\n",
    "\n",
    "df = pd.read_csv(file_path, encoding='utf-8')\n",
    "\n",
    "# 카테고리 명 추출\n",
    "select_query = \"\"\"\n",
    "SELECT (SELECT cate_name FROM tb_category WHERE cate_code = 1) AS 'e_cate_name', # 환경\n",
    "\t(SELECT cate_name FROM tb_category WHERE cate_code = 2) AS 's_cate_name', # 사회\n",
    "\t(SELECT cate_name FROM tb_category WHERE cate_code = 3) AS 'g_cate_name' # 지배구조\n",
    "\"\"\"\n",
    "conn.execute(select_query)\n",
    "cate_result = conn.fetchone()\n",
    "e_cate_name = cate_result['e_cate_name'] # 환경(E)\n",
    "s_cate_name = cate_result['s_cate_name'] # 사회(S)\n",
    "g_cate_name = cate_result['g_cate_name'] # 지배구조(G)\n",
    "\n",
    "# insert query문\n",
    "keyword_sql = \"\"\"INSERT INTO tb_keyword(cate_code, key_word)VALUES(%s, %s);\"\"\"\n",
    "\n",
    "# 환경 키워드 insert\n",
    "e_keyword = df[df['카테고리'] == e_cate_name]\n",
    "e_datas = list(e_keyword['키워드'])\n",
    "\n",
    "keyword_values = []\n",
    "for e_data in e_datas:\n",
    "    keyword_values.append((1, e_data))\n",
    "\n",
    "# 사회 키워드 insert\n",
    "s_keyword = df[df['카테고리'] == s_cate_name]\n",
    "s_datas = list(s_keyword['키워드'])\n",
    "\n",
    "for s_data in s_datas:\n",
    "    keyword_values.append((2, s_data))\n",
    "\n",
    "# 지배구조 키워드 insert\n",
    "g_keyword = df[df['카테고리'] == g_cate_name]\n",
    "g_datas = list(g_keyword['키워드'])\n",
    "\n",
    "for g_data in g_datas:\n",
    "    keyword_values.append((3, g_data))\n",
    "\n",
    "# print(keyword_values)\n",
    "conn.executemany(keyword_sql, keyword_values)\n",
    "\n",
    "conn.commit()"
   ]
  },
  {
   "cell_type": "markdown",
   "metadata": {},
   "source": [
    "##### 기업 목록 데이터 입력"
   ]
  },
  {
   "cell_type": "code",
   "execution_count": 5,
   "metadata": {},
   "outputs": [],
   "source": [
    "path = '../assets/'\n",
    "file_name = 'company_list.csv'\n",
    "\n",
    "file_path = path + file_name\n",
    "\n",
    "df = pd.read_csv(file_path, encoding='utf-8')\n",
    "\n",
    "# df\n",
    "# 기업 리스트\n",
    "company_list = list(df['COM_ABBRV'])\n",
    "\n",
    "company_query = \"\"\"INSERT INTO tb_company(company_name)VALUES(%s);\"\"\"\n",
    "\n",
    "company_params = []\n",
    "for company in company_list:\n",
    "    company_params.append(company)\n",
    "\n",
    "conn.executemany(company_query, company_params)\n",
    "\n",
    "conn.commit()"
   ]
  },
  {
   "cell_type": "code",
   "execution_count": 6,
   "metadata": {},
   "outputs": [],
   "source": [
    "# DB 연결 객체 종료\n",
    "conn.close()"
   ]
  },
  {
   "cell_type": "code",
   "execution_count": null,
   "metadata": {},
   "outputs": [],
   "source": []
  }
 ],
 "metadata": {
  "kernelspec": {
   "display_name": "database",
   "language": "python",
   "name": "python3"
  },
  "language_info": {
   "codemirror_mode": {
    "name": "ipython",
    "version": 3
   },
   "file_extension": ".py",
   "mimetype": "text/x-python",
   "name": "python",
   "nbconvert_exporter": "python",
   "pygments_lexer": "ipython3",
   "version": "3.10.13"
  }
 },
 "nbformat": 4,
 "nbformat_minor": 2
}
