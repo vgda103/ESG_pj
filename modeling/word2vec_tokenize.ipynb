{
 "cells": [
  {
   "cell_type": "code",
   "execution_count": null,
   "metadata": {},
   "outputs": [],
   "source": [
    "%pip install konlpy"
   ]
  },
  {
   "cell_type": "code",
   "execution_count": 2,
   "metadata": {},
   "outputs": [],
   "source": [
    "from gensim.models import Word2Vec\n",
    "from gensim.models import KeyedVectors\n",
    "from gensim.test.utils import datapath\n",
    "from gensim.models.phrases import Phrases, Phraser\n",
    "from konlpy.tag import Kkma\n",
    "import pandas as pd\n",
    "import os\n"
   ]
  },
  {
   "cell_type": "code",
   "execution_count": 5,
   "metadata": {},
   "outputs": [
    {
     "name": "stdout",
     "output_type": "stream",
     "text": [
      "뉴스 csv파일을 DB로 모두 입력완료 하였습니다.\n"
     ]
    }
   ],
   "source": [
    "input_folder = r'C:\\Users\\SDA04\\Desktop\\yanghs81\\proj_프로젝트\\2_final_ESG\\sentence_folder'\n",
    "output_folder = 'token_folder'\n",
    "\n",
    "# 판다스 DataFrame 초기화\n",
    "new_df = pd.DataFrame(columns=['company_cd', 'company', 'category', 'keyword', 'date', 'title', 'token'])\n",
    "\n",
    "# Kkma 객체 초기화\n",
    "kkma = Kkma()\n",
    "\n",
    "for file_name in os.listdir(input_folder):\n",
    "    if file_name.endswith('.csv'):\n",
    "        file_path = os.path.join(input_folder, file_name)\n",
    "        df = pd.read_csv(file_path)\n",
    "\n",
    "        for index, row in df.iterrows():\n",
    "            company_cd = row['company_cd']\n",
    "            company    = row['company']\n",
    "            category   = row['category']\n",
    "            keyword    = row['keyword']\n",
    "            date       = row['date']\n",
    "            title      = row['title']\n",
    "            sentence   = row['sentence']  # 열 이름 수정: 'sentence'로 변경\n",
    "            token      = kkma.nouns(sentence)  # Kkma 객체의 nouns() 메소드 호출\n",
    "\n",
    "            new_df.loc[len(new_df)] = {'company_cd': company_cd, 'company': company, 'category': category, 'keyword': keyword, \n",
    "                                        'date': date, 'title': title, 'token': token}\n",
    "\n",
    "        # 결과를 csv 파일로 저장\n",
    "        output_file_path = os.path.join(output_folder, file_name)\n",
    "        new_df.to_csv(output_file_path, index=False)\n",
    "\n",
    "        # 판다스 DataFrame 초기화\n",
    "        new_df = pd.DataFrame(columns=['company_cd', 'company', 'category', 'keyword', 'date', 'title', 'token'])\n",
    "\n",
    "# 끝 처리        \n",
    "print('뉴스 csv파일을 DB로 모두 입력완료 하였습니다.')"
   ]
  },
  {
   "cell_type": "code",
   "execution_count": null,
   "metadata": {},
   "outputs": [],
   "source": []
  }
 ],
 "metadata": {
  "kernelspec": {
   "display_name": "study",
   "language": "python",
   "name": "python3"
  },
  "language_info": {
   "codemirror_mode": {
    "name": "ipython",
    "version": 3
   },
   "file_extension": ".py",
   "mimetype": "text/x-python",
   "name": "python",
   "nbconvert_exporter": "python",
   "pygments_lexer": "ipython3",
   "version": "3.10.13"
  }
 },
 "nbformat": 4,
 "nbformat_minor": 2
}
